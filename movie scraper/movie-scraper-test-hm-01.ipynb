{
 "cells": [
  {
   "cell_type": "code",
   "execution_count": 12,
   "metadata": {},
   "outputs": [],
   "source": [
    "from bs4 import BeautifulSoup\n",
    "import requests\n",
    "import urllib.request as urllib2\n",
    "import pandas as pd\n",
    "import lxml\n",
    "\n",
    "def get_substr(str, start, end, start_offset = 0):\n",
    "    start = str.find(start) + len(start) + start_offset\n",
    "    end = str.find(end)\n",
    "    substring = str[start:end]\n",
    "    return substring"
   ]
  },
  {
   "cell_type": "code",
   "execution_count": 45,
   "metadata": {
    "tags": []
   },
   "outputs": [],
   "source": [
    "url = 'https://www.imdb.com/chart/top/?ref_=nv_mv_250'\n",
    "\n",
    "headers = {'accept-language':'en-US'}\n",
    "\n",
    "respone = requests.get(url, headers=headers)\n",
    "soup = BeautifulSoup(respone.text, 'html.parser')\n",
    "title_column = soup.select('#main > div > span > div > div > div.lister > table > tbody > tr > td.titleColumn')\n",
    "poster_column = soup.select('#main > div > span > div > div > div.lister > table > tbody > tr > td.posterColumn')\n",
    "#soup"
   ]
  },
  {
   "cell_type": "code",
   "execution_count": 47,
   "metadata": {},
   "outputs": [
    {
     "output_type": "execute_result",
     "data": {
      "text/plain": "<td class=\"titleColumn\">\n      1.\n      <a href=\"/title/tt0111161/\" title=\"Frank Darabont (dir.), Tim Robbins, Morgan Freeman\">The Shawshank Redemption</a>\n<span class=\"secondaryInfo\">(1994)</span>\n</td>"
     },
     "metadata": {},
     "execution_count": 47
    }
   ],
   "source": [
    "title_column[0]"
   ]
  },
  {
   "cell_type": "code",
   "execution_count": 48,
   "metadata": {},
   "outputs": [
    {
     "output_type": "execute_result",
     "data": {
      "text/plain": "<td class=\"posterColumn\">\n<span data-value=\"1\" name=\"rk\"></span>\n<span data-value=\"9.222320638046945\" name=\"ir\"></span>\n<span data-value=\"7.791552E11\" name=\"us\"></span>\n<span data-value=\"2255159\" name=\"nv\"></span>\n<span data-value=\"-1.777679361953055\" name=\"ur\"></span>\n<a href=\"/title/tt0111161/\"> <img alt=\"The Shawshank Redemption\" height=\"67\" src=\"https://m.media-amazon.com/images/M/MV5BMDFkYTc0MGEtZmNhMC00ZDIzLWFmNTEtODM1ZmRlYWMwMWFmXkEyXkFqcGdeQXVyMTMxODk2OTU@._V1_UY67_CR0,0,45,67_AL_.jpg\" width=\"45\"/>\n</a> </td>"
     },
     "metadata": {},
     "execution_count": 48
    }
   ],
   "source": [
    "poster_column[0]"
   ]
  }
 ],
 "metadata": {
  "language_info": {
   "codemirror_mode": {
    "name": "ipython",
    "version": 3
   },
   "file_extension": ".py",
   "mimetype": "text/x-python",
   "name": "python",
   "nbconvert_exporter": "python",
   "pygments_lexer": "ipython3",
   "version": "3.7.3-final"
  },
  "orig_nbformat": 2,
  "kernelspec": {
   "name": "python37364bit572b663975584988bf8e46e0191a7996",
   "display_name": "Python 3.7.3 64-bit"
  }
 },
 "nbformat": 4,
 "nbformat_minor": 2
}