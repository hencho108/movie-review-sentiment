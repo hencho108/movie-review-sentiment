{
 "cells": [
  {
   "cell_type": "code",
   "execution_count": 132,
   "metadata": {},
   "outputs": [],
   "source": [
    "from bs4 import BeautifulSoup\n",
    "import requests\n",
    "import urllib.request as urllib2\n",
    "import pandas as pd\n",
    "import re"
   ]
  },
  {
   "cell_type": "code",
   "execution_count": 133,
   "metadata": {
    "tags": []
   },
   "outputs": [],
   "source": [
    "top_movies_url = 'https://www.imdb.com/chart/top/?ref_=nv_mv_250'\n",
    "most_pop_movies_url = 'https://www.imdb.com/chart/moviemeter/?ref_=nv_mv_mpm'\n",
    "\n",
    "url = top_movies_url\n",
    "\n",
    "headers = {'accept-language':'en-US'}\n",
    "\n",
    "respone = requests.get(url, headers=headers)\n",
    "soup = BeautifulSoup(respone.text, 'html.parser')\n",
    "title_column = soup.select('#main > div > span > div > div > div.lister > table > tbody > tr > td.titleColumn')\n",
    "poster_column = soup.select('#main > div > span > div > div > div.lister > table > tbody > tr > td.posterColumn')"
   ]
  },
  {
   "cell_type": "code",
   "execution_count": 148,
   "metadata": {},
   "outputs": [
    {
     "output_type": "execute_result",
     "data": {
      "text/plain": "'(1994)'"
     },
     "metadata": {},
     "execution_count": 148
    }
   ],
   "source": [
    "txt = title_column[0].select('td.titleColumn > span')[0].text\n",
    "txt"
   ]
  },
  {
   "cell_type": "code",
   "execution_count": null,
   "metadata": {},
   "outputs": [],
   "source": [
    "titles = [title.select('a')[0].text for title in title_column]\n",
    "years = [re.sub('[^\\w]','',year.select('td.titleColumn > span')[0].text) for year in title_column]\n",
    "poster_urls = [poster.find('img').get('src') for poster in poster_column]"
   ]
  },
  {
   "cell_type": "code",
   "execution_count": null,
   "metadata": {},
   "outputs": [],
   "source": [
    "movie_data = pd.DataFrame({'title':titles, 'year':years, 'poster_url':poster_urls})\n",
    "movie_data"
   ]
  },
  {
   "cell_type": "code",
   "execution_count": null,
   "metadata": {},
   "outputs": [],
   "source": [
    "movie_data.to_csv('../dash/data/movies.csv',index=)"
   ]
  }
 ],
 "metadata": {
  "language_info": {
   "codemirror_mode": {
    "name": "ipython",
    "version": 3
   },
   "file_extension": ".py",
   "mimetype": "text/x-python",
   "name": "python",
   "nbconvert_exporter": "python",
   "pygments_lexer": "ipython3",
   "version": "3.7.3-final"
  },
  "orig_nbformat": 2,
  "kernelspec": {
   "name": "python37364bit572b663975584988bf8e46e0191a7996",
   "display_name": "Python 3.7.3 64-bit"
  }
 },
 "nbformat": 4,
 "nbformat_minor": 2
}